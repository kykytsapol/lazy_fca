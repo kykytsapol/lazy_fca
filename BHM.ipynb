{
 "cells": [
  {
   "cell_type": "markdown",
   "id": "957a3d00",
   "metadata": {},
   "source": [
    "### Serechenko Alexandra"
   ]
  },
  {
   "cell_type": "markdown",
   "id": "838739d1",
   "metadata": {},
   "source": [
    "Import the library with predefine functions"
   ]
  },
  {
   "cell_type": "code",
   "execution_count": 1,
   "id": "48de8188",
   "metadata": {},
   "outputs": [],
   "source": [
    "import lazy_pipeline as lpipe"
   ]
  },
  {
   "cell_type": "markdown",
   "id": "dd87222d",
   "metadata": {},
   "source": [
    "Check library versions"
   ]
  },
  {
   "cell_type": "code",
   "execution_count": 2,
   "id": "cd38dbb4",
   "metadata": {},
   "outputs": [
    {
     "name": "stdout",
     "output_type": "stream",
     "text": [
      "3.8.8\n",
      "1.2.4\n",
      "1.1.3\n"
     ]
    }
   ],
   "source": [
    "from platform import python_version\n",
    "import sklearn\n",
    "print(python_version())\n",
    "print(lpipe.pd.__version__)\n",
    "print(sklearn.__version__)"
   ]
  },
  {
   "cell_type": "code",
   "execution_count": 3,
   "id": "78714c0d",
   "metadata": {},
   "outputs": [],
   "source": [
    "import numpy as np"
   ]
  },
  {
   "cell_type": "markdown",
   "id": "fa279892",
   "metadata": {},
   "source": [
    "Load data"
   ]
  },
  {
   "cell_type": "markdown",
   "id": "9e8db7e9",
   "metadata": {},
   "source": [
    "Mushroom hunting is a fairly widespread hobby in the world, especially for residents of Russia. I believe that in the process of collecting mushrooms, almost everyone has faced the following question: is it possible to eat this mushroom or is it poisonous? Therefore,it would be interesting for me to learn how to determine whether a mushroom is poisonous or not."
   ]
  },
  {
   "cell_type": "code",
   "execution_count": 4,
   "id": "61ae0e65",
   "metadata": {
    "scrolled": false
   },
   "outputs": [
    {
     "data": {
      "text/html": [
       "<div>\n",
       "<style scoped>\n",
       "    .dataframe tbody tr th:only-of-type {\n",
       "        vertical-align: middle;\n",
       "    }\n",
       "\n",
       "    .dataframe tbody tr th {\n",
       "        vertical-align: top;\n",
       "    }\n",
       "\n",
       "    .dataframe thead th {\n",
       "        text-align: right;\n",
       "    }\n",
       "</style>\n",
       "<table border=\"1\" class=\"dataframe\">\n",
       "  <thead>\n",
       "    <tr style=\"text-align: right;\">\n",
       "      <th></th>\n",
       "      <th>cap-shape</th>\n",
       "      <th>cap-surface</th>\n",
       "      <th>cap-color</th>\n",
       "      <th>bruises%3F</th>\n",
       "      <th>odor</th>\n",
       "      <th>gill-attachment</th>\n",
       "      <th>gill-spacing</th>\n",
       "      <th>gill-size</th>\n",
       "      <th>gill-color</th>\n",
       "      <th>stalk-shape</th>\n",
       "      <th>...</th>\n",
       "      <th>stalk-color-above-ring</th>\n",
       "      <th>stalk-color-below-ring</th>\n",
       "      <th>veil-type</th>\n",
       "      <th>veil-color</th>\n",
       "      <th>ring-number</th>\n",
       "      <th>ring-type</th>\n",
       "      <th>spore-print-color</th>\n",
       "      <th>population</th>\n",
       "      <th>habitat</th>\n",
       "      <th>class</th>\n",
       "    </tr>\n",
       "  </thead>\n",
       "  <tbody>\n",
       "    <tr>\n",
       "      <th>0</th>\n",
       "      <td>b'x'</td>\n",
       "      <td>b's'</td>\n",
       "      <td>b'n'</td>\n",
       "      <td>b't'</td>\n",
       "      <td>b'p'</td>\n",
       "      <td>b'f'</td>\n",
       "      <td>b'c'</td>\n",
       "      <td>b'n'</td>\n",
       "      <td>b'k'</td>\n",
       "      <td>b'e'</td>\n",
       "      <td>...</td>\n",
       "      <td>b'w'</td>\n",
       "      <td>b'w'</td>\n",
       "      <td>b'p'</td>\n",
       "      <td>b'w'</td>\n",
       "      <td>b'o'</td>\n",
       "      <td>b'p'</td>\n",
       "      <td>b'k'</td>\n",
       "      <td>b's'</td>\n",
       "      <td>b'u'</td>\n",
       "      <td>b'p'</td>\n",
       "    </tr>\n",
       "    <tr>\n",
       "      <th>1</th>\n",
       "      <td>b'x'</td>\n",
       "      <td>b's'</td>\n",
       "      <td>b'y'</td>\n",
       "      <td>b't'</td>\n",
       "      <td>b'a'</td>\n",
       "      <td>b'f'</td>\n",
       "      <td>b'c'</td>\n",
       "      <td>b'b'</td>\n",
       "      <td>b'k'</td>\n",
       "      <td>b'e'</td>\n",
       "      <td>...</td>\n",
       "      <td>b'w'</td>\n",
       "      <td>b'w'</td>\n",
       "      <td>b'p'</td>\n",
       "      <td>b'w'</td>\n",
       "      <td>b'o'</td>\n",
       "      <td>b'p'</td>\n",
       "      <td>b'n'</td>\n",
       "      <td>b'n'</td>\n",
       "      <td>b'g'</td>\n",
       "      <td>b'e'</td>\n",
       "    </tr>\n",
       "    <tr>\n",
       "      <th>2</th>\n",
       "      <td>b'b'</td>\n",
       "      <td>b's'</td>\n",
       "      <td>b'w'</td>\n",
       "      <td>b't'</td>\n",
       "      <td>b'l'</td>\n",
       "      <td>b'f'</td>\n",
       "      <td>b'c'</td>\n",
       "      <td>b'b'</td>\n",
       "      <td>b'n'</td>\n",
       "      <td>b'e'</td>\n",
       "      <td>...</td>\n",
       "      <td>b'w'</td>\n",
       "      <td>b'w'</td>\n",
       "      <td>b'p'</td>\n",
       "      <td>b'w'</td>\n",
       "      <td>b'o'</td>\n",
       "      <td>b'p'</td>\n",
       "      <td>b'n'</td>\n",
       "      <td>b'n'</td>\n",
       "      <td>b'm'</td>\n",
       "      <td>b'e'</td>\n",
       "    </tr>\n",
       "    <tr>\n",
       "      <th>3</th>\n",
       "      <td>b'x'</td>\n",
       "      <td>b'y'</td>\n",
       "      <td>b'w'</td>\n",
       "      <td>b't'</td>\n",
       "      <td>b'p'</td>\n",
       "      <td>b'f'</td>\n",
       "      <td>b'c'</td>\n",
       "      <td>b'n'</td>\n",
       "      <td>b'n'</td>\n",
       "      <td>b'e'</td>\n",
       "      <td>...</td>\n",
       "      <td>b'w'</td>\n",
       "      <td>b'w'</td>\n",
       "      <td>b'p'</td>\n",
       "      <td>b'w'</td>\n",
       "      <td>b'o'</td>\n",
       "      <td>b'p'</td>\n",
       "      <td>b'k'</td>\n",
       "      <td>b's'</td>\n",
       "      <td>b'u'</td>\n",
       "      <td>b'p'</td>\n",
       "    </tr>\n",
       "    <tr>\n",
       "      <th>4</th>\n",
       "      <td>b'x'</td>\n",
       "      <td>b's'</td>\n",
       "      <td>b'g'</td>\n",
       "      <td>b'f'</td>\n",
       "      <td>b'n'</td>\n",
       "      <td>b'f'</td>\n",
       "      <td>b'w'</td>\n",
       "      <td>b'b'</td>\n",
       "      <td>b'k'</td>\n",
       "      <td>b't'</td>\n",
       "      <td>...</td>\n",
       "      <td>b'w'</td>\n",
       "      <td>b'w'</td>\n",
       "      <td>b'p'</td>\n",
       "      <td>b'w'</td>\n",
       "      <td>b'o'</td>\n",
       "      <td>b'e'</td>\n",
       "      <td>b'n'</td>\n",
       "      <td>b'a'</td>\n",
       "      <td>b'g'</td>\n",
       "      <td>b'e'</td>\n",
       "    </tr>\n",
       "  </tbody>\n",
       "</table>\n",
       "<p>5 rows × 23 columns</p>\n",
       "</div>"
      ],
      "text/plain": [
       "  cap-shape cap-surface cap-color bruises%3F  odor gill-attachment  \\\n",
       "0      b'x'        b's'      b'n'       b't'  b'p'            b'f'   \n",
       "1      b'x'        b's'      b'y'       b't'  b'a'            b'f'   \n",
       "2      b'b'        b's'      b'w'       b't'  b'l'            b'f'   \n",
       "3      b'x'        b'y'      b'w'       b't'  b'p'            b'f'   \n",
       "4      b'x'        b's'      b'g'       b'f'  b'n'            b'f'   \n",
       "\n",
       "  gill-spacing gill-size gill-color stalk-shape  ... stalk-color-above-ring  \\\n",
       "0         b'c'      b'n'       b'k'        b'e'  ...                   b'w'   \n",
       "1         b'c'      b'b'       b'k'        b'e'  ...                   b'w'   \n",
       "2         b'c'      b'b'       b'n'        b'e'  ...                   b'w'   \n",
       "3         b'c'      b'n'       b'n'        b'e'  ...                   b'w'   \n",
       "4         b'w'      b'b'       b'k'        b't'  ...                   b'w'   \n",
       "\n",
       "  stalk-color-below-ring veil-type veil-color ring-number ring-type  \\\n",
       "0                   b'w'      b'p'       b'w'        b'o'      b'p'   \n",
       "1                   b'w'      b'p'       b'w'        b'o'      b'p'   \n",
       "2                   b'w'      b'p'       b'w'        b'o'      b'p'   \n",
       "3                   b'w'      b'p'       b'w'        b'o'      b'p'   \n",
       "4                   b'w'      b'p'       b'w'        b'o'      b'e'   \n",
       "\n",
       "  spore-print-color population habitat class  \n",
       "0              b'k'       b's'    b'u'  b'p'  \n",
       "1              b'n'       b'n'    b'g'  b'e'  \n",
       "2              b'n'       b'n'    b'm'  b'e'  \n",
       "3              b'k'       b's'    b'u'  b'p'  \n",
       "4              b'n'       b'a'    b'g'  b'e'  \n",
       "\n",
       "[5 rows x 23 columns]"
      ]
     },
     "execution_count": 4,
     "metadata": {},
     "output_type": "execute_result"
    }
   ],
   "source": [
    "from scipy.io import arff\n",
    "import pandas as pd\n",
    "\n",
    "data = arff.loadarff('mushroom.arff')\n",
    "df = pd.DataFrame(data[0])\n",
    "\n",
    "df.head()"
   ]
  },
  {
   "cell_type": "markdown",
   "id": "c57a0255",
   "metadata": {},
   "source": [
    "Description of the dataset"
   ]
  },
  {
   "cell_type": "markdown",
   "id": "5486b74b",
   "metadata": {},
   "source": [
    "1. cap-shape: bell=b,conical=c,convex=x,flat=f, knobbed=k,sunken=s \n",
    "2. cap-surface: fibrous=f,grooves=g,scaly=y,smooth=s \n",
    "3. cap-color: brown=n,buff=b,cinnamon=c,gray=g,green=r, pink=p,purple=u,red=e,white=w,yellow=y \n",
    "4. bruises?: bruises=t,no=f \n",
    "5. odor: almond=a,anise=l,creosote=c,fishy=y,foul=f, musty=m,none=n,pungent=p,spicy=s \n",
    "6. gill-attachment: attached=a,descending=d,free=f,notched=n \n",
    "7. gill-spacing: close=c,crowded=w,distant=d \n",
    "8. gill-size: broad=b,narrow=n \n",
    "9. gill-color: black=k,brown=n,buff=b,chocolate=h,gray=g, green=r,orange=o,pink=p,purple=u,red=e, white=w,yellow=y \n",
    "10. stalk-shape: enlarging=e,tapering=t \n",
    "11. stalk-root: bulbous=b,club=c,cup=u,equal=e, rhizomorphs=z,rooted=r,missing=? \n",
    "12. stalk-surface-above-ring: fibrous=f,scaly=y,silky=k,smooth=s \n",
    "13. stalk-surface-below-ring: fibrous=f,scaly=y,silky=k,smooth=s \n",
    "14. stalk-color-above-ring: brown=n,buff=b,cinnamon=c,gray=g,orange=o, pink=p,red=e,white=w,yellow=y \n",
    "15. stalk-color-below-ring: brown=n,buff=b,cinnamon=c,gray=g,orange=o, pink=p,red=e,white=w,yellow=y \n",
    "16. veil-type: partial=p,universal=u \n",
    "17. veil-color: brown=n,orange=o,white=w,yellow=y \n",
    "18. ring-number: none=n,one=o,two=t \n",
    "19. ring-type: cobwebby=c,evanescent=e,flaring=f,large=l, none=n,pendant=p,sheathing=s,zone=z \n",
    "20. spore-print-color: black=k,brown=n,buff=b,chocolate=h,green=r, orange=o,purple=u,white=w,yellow=y \n",
    "21. population: abundant=a,clustered=c,numerous=n, scattered=s,several=v,solitary=y \n",
    "22. habitat: grasses=g,leaves=l,meadows=m,paths=p, urban=u,waste=w,woods=d"
   ]
  },
  {
   "cell_type": "markdown",
   "id": "88a1c460",
   "metadata": {},
   "source": [
    "The dataset describes 22 physical features (such as stalk-root, gill-shape, cap-color, habitat, etc) of 8124 mushrooms. The set of mushrooms consists of two classes: either poisonous or edible (target variable).\n",
    "A detailed description of the features is available via the dataset page (Rijn, 2014). All 22 features are categorical variables. "
   ]
  },
  {
   "cell_type": "markdown",
   "id": "ebdc89c5",
   "metadata": {},
   "source": [
    "Correcting the column name"
   ]
  },
  {
   "cell_type": "code",
   "execution_count": 5,
   "id": "79d6664c",
   "metadata": {},
   "outputs": [],
   "source": [
    "df.columns = df.columns.str.replace('bruises%3F', 'bruises')"
   ]
  },
  {
   "cell_type": "markdown",
   "id": "02d13af2",
   "metadata": {},
   "source": [
    "I set the encoding for the target variable to true - if the mushroom is edible and false - if the mushroom is poisonous."
   ]
  },
  {
   "cell_type": "code",
   "execution_count": 6,
   "id": "23267df3",
   "metadata": {},
   "outputs": [],
   "source": [
    "df['class'] = df['class'].apply(lambda x: True  if x == b'e' else False)"
   ]
  },
  {
   "cell_type": "code",
   "execution_count": 7,
   "id": "2cd47f70",
   "metadata": {
    "scrolled": true
   },
   "outputs": [
    {
     "data": {
      "text/html": [
       "<div>\n",
       "<style scoped>\n",
       "    .dataframe tbody tr th:only-of-type {\n",
       "        vertical-align: middle;\n",
       "    }\n",
       "\n",
       "    .dataframe tbody tr th {\n",
       "        vertical-align: top;\n",
       "    }\n",
       "\n",
       "    .dataframe thead th {\n",
       "        text-align: right;\n",
       "    }\n",
       "</style>\n",
       "<table border=\"1\" class=\"dataframe\">\n",
       "  <thead>\n",
       "    <tr style=\"text-align: right;\">\n",
       "      <th></th>\n",
       "      <th>cap-shape</th>\n",
       "      <th>cap-surface</th>\n",
       "      <th>cap-color</th>\n",
       "      <th>bruises</th>\n",
       "      <th>odor</th>\n",
       "      <th>gill-attachment</th>\n",
       "      <th>gill-spacing</th>\n",
       "      <th>gill-size</th>\n",
       "      <th>gill-color</th>\n",
       "      <th>stalk-shape</th>\n",
       "      <th>...</th>\n",
       "      <th>stalk-color-above-ring</th>\n",
       "      <th>stalk-color-below-ring</th>\n",
       "      <th>veil-type</th>\n",
       "      <th>veil-color</th>\n",
       "      <th>ring-number</th>\n",
       "      <th>ring-type</th>\n",
       "      <th>spore-print-color</th>\n",
       "      <th>population</th>\n",
       "      <th>habitat</th>\n",
       "      <th>class</th>\n",
       "    </tr>\n",
       "  </thead>\n",
       "  <tbody>\n",
       "    <tr>\n",
       "      <th>0</th>\n",
       "      <td>b'f'</td>\n",
       "      <td>b's'</td>\n",
       "      <td>b'w'</td>\n",
       "      <td>b'f'</td>\n",
       "      <td>b'n'</td>\n",
       "      <td>b'f'</td>\n",
       "      <td>b'w'</td>\n",
       "      <td>b'b'</td>\n",
       "      <td>b'n'</td>\n",
       "      <td>b't'</td>\n",
       "      <td>...</td>\n",
       "      <td>b'w'</td>\n",
       "      <td>b'w'</td>\n",
       "      <td>b'p'</td>\n",
       "      <td>b'w'</td>\n",
       "      <td>b'o'</td>\n",
       "      <td>b'e'</td>\n",
       "      <td>b'n'</td>\n",
       "      <td>b's'</td>\n",
       "      <td>b'g'</td>\n",
       "      <td>True</td>\n",
       "    </tr>\n",
       "    <tr>\n",
       "      <th>1</th>\n",
       "      <td>b'f'</td>\n",
       "      <td>b'y'</td>\n",
       "      <td>b'g'</td>\n",
       "      <td>b't'</td>\n",
       "      <td>b'n'</td>\n",
       "      <td>b'f'</td>\n",
       "      <td>b'c'</td>\n",
       "      <td>b'b'</td>\n",
       "      <td>b'u'</td>\n",
       "      <td>b't'</td>\n",
       "      <td>...</td>\n",
       "      <td>b'w'</td>\n",
       "      <td>b'p'</td>\n",
       "      <td>b'p'</td>\n",
       "      <td>b'w'</td>\n",
       "      <td>b'o'</td>\n",
       "      <td>b'p'</td>\n",
       "      <td>b'k'</td>\n",
       "      <td>b'v'</td>\n",
       "      <td>b'd'</td>\n",
       "      <td>True</td>\n",
       "    </tr>\n",
       "    <tr>\n",
       "      <th>2</th>\n",
       "      <td>b'f'</td>\n",
       "      <td>b's'</td>\n",
       "      <td>b'e'</td>\n",
       "      <td>b'f'</td>\n",
       "      <td>b's'</td>\n",
       "      <td>b'f'</td>\n",
       "      <td>b'c'</td>\n",
       "      <td>b'n'</td>\n",
       "      <td>b'b'</td>\n",
       "      <td>b't'</td>\n",
       "      <td>...</td>\n",
       "      <td>b'w'</td>\n",
       "      <td>b'p'</td>\n",
       "      <td>b'p'</td>\n",
       "      <td>b'w'</td>\n",
       "      <td>b'o'</td>\n",
       "      <td>b'e'</td>\n",
       "      <td>b'w'</td>\n",
       "      <td>b'v'</td>\n",
       "      <td>b'l'</td>\n",
       "      <td>False</td>\n",
       "    </tr>\n",
       "    <tr>\n",
       "      <th>3</th>\n",
       "      <td>b'f'</td>\n",
       "      <td>b'f'</td>\n",
       "      <td>b'g'</td>\n",
       "      <td>b't'</td>\n",
       "      <td>b'n'</td>\n",
       "      <td>b'f'</td>\n",
       "      <td>b'c'</td>\n",
       "      <td>b'b'</td>\n",
       "      <td>b'u'</td>\n",
       "      <td>b't'</td>\n",
       "      <td>...</td>\n",
       "      <td>b'p'</td>\n",
       "      <td>b'g'</td>\n",
       "      <td>b'p'</td>\n",
       "      <td>b'w'</td>\n",
       "      <td>b'o'</td>\n",
       "      <td>b'p'</td>\n",
       "      <td>b'n'</td>\n",
       "      <td>b'y'</td>\n",
       "      <td>b'd'</td>\n",
       "      <td>True</td>\n",
       "    </tr>\n",
       "    <tr>\n",
       "      <th>4</th>\n",
       "      <td>b'x'</td>\n",
       "      <td>b'y'</td>\n",
       "      <td>b'y'</td>\n",
       "      <td>b'f'</td>\n",
       "      <td>b'f'</td>\n",
       "      <td>b'f'</td>\n",
       "      <td>b'c'</td>\n",
       "      <td>b'b'</td>\n",
       "      <td>b'p'</td>\n",
       "      <td>b'e'</td>\n",
       "      <td>...</td>\n",
       "      <td>b'n'</td>\n",
       "      <td>b'n'</td>\n",
       "      <td>b'p'</td>\n",
       "      <td>b'w'</td>\n",
       "      <td>b'o'</td>\n",
       "      <td>b'l'</td>\n",
       "      <td>b'h'</td>\n",
       "      <td>b'v'</td>\n",
       "      <td>b'g'</td>\n",
       "      <td>False</td>\n",
       "    </tr>\n",
       "    <tr>\n",
       "      <th>...</th>\n",
       "      <td>...</td>\n",
       "      <td>...</td>\n",
       "      <td>...</td>\n",
       "      <td>...</td>\n",
       "      <td>...</td>\n",
       "      <td>...</td>\n",
       "      <td>...</td>\n",
       "      <td>...</td>\n",
       "      <td>...</td>\n",
       "      <td>...</td>\n",
       "      <td>...</td>\n",
       "      <td>...</td>\n",
       "      <td>...</td>\n",
       "      <td>...</td>\n",
       "      <td>...</td>\n",
       "      <td>...</td>\n",
       "      <td>...</td>\n",
       "      <td>...</td>\n",
       "      <td>...</td>\n",
       "      <td>...</td>\n",
       "      <td>...</td>\n",
       "    </tr>\n",
       "    <tr>\n",
       "      <th>8119</th>\n",
       "      <td>b'b'</td>\n",
       "      <td>b's'</td>\n",
       "      <td>b'y'</td>\n",
       "      <td>b't'</td>\n",
       "      <td>b'a'</td>\n",
       "      <td>b'f'</td>\n",
       "      <td>b'c'</td>\n",
       "      <td>b'b'</td>\n",
       "      <td>b'w'</td>\n",
       "      <td>b'e'</td>\n",
       "      <td>...</td>\n",
       "      <td>b'w'</td>\n",
       "      <td>b'w'</td>\n",
       "      <td>b'p'</td>\n",
       "      <td>b'w'</td>\n",
       "      <td>b'o'</td>\n",
       "      <td>b'p'</td>\n",
       "      <td>b'k'</td>\n",
       "      <td>b's'</td>\n",
       "      <td>b'g'</td>\n",
       "      <td>True</td>\n",
       "    </tr>\n",
       "    <tr>\n",
       "      <th>8120</th>\n",
       "      <td>b'x'</td>\n",
       "      <td>b'y'</td>\n",
       "      <td>b'y'</td>\n",
       "      <td>b't'</td>\n",
       "      <td>b'l'</td>\n",
       "      <td>b'f'</td>\n",
       "      <td>b'c'</td>\n",
       "      <td>b'b'</td>\n",
       "      <td>b'p'</td>\n",
       "      <td>b'e'</td>\n",
       "      <td>...</td>\n",
       "      <td>b'w'</td>\n",
       "      <td>b'w'</td>\n",
       "      <td>b'p'</td>\n",
       "      <td>b'w'</td>\n",
       "      <td>b'o'</td>\n",
       "      <td>b'p'</td>\n",
       "      <td>b'k'</td>\n",
       "      <td>b's'</td>\n",
       "      <td>b'g'</td>\n",
       "      <td>True</td>\n",
       "    </tr>\n",
       "    <tr>\n",
       "      <th>8121</th>\n",
       "      <td>b'x'</td>\n",
       "      <td>b's'</td>\n",
       "      <td>b'b'</td>\n",
       "      <td>b't'</td>\n",
       "      <td>b'f'</td>\n",
       "      <td>b'f'</td>\n",
       "      <td>b'c'</td>\n",
       "      <td>b'b'</td>\n",
       "      <td>b'w'</td>\n",
       "      <td>b't'</td>\n",
       "      <td>...</td>\n",
       "      <td>b'w'</td>\n",
       "      <td>b'w'</td>\n",
       "      <td>b'p'</td>\n",
       "      <td>b'w'</td>\n",
       "      <td>b'o'</td>\n",
       "      <td>b'p'</td>\n",
       "      <td>b'h'</td>\n",
       "      <td>b'v'</td>\n",
       "      <td>b'u'</td>\n",
       "      <td>False</td>\n",
       "    </tr>\n",
       "    <tr>\n",
       "      <th>8122</th>\n",
       "      <td>b'x'</td>\n",
       "      <td>b'y'</td>\n",
       "      <td>b'g'</td>\n",
       "      <td>b't'</td>\n",
       "      <td>b'n'</td>\n",
       "      <td>b'f'</td>\n",
       "      <td>b'c'</td>\n",
       "      <td>b'b'</td>\n",
       "      <td>b'n'</td>\n",
       "      <td>b't'</td>\n",
       "      <td>...</td>\n",
       "      <td>b'w'</td>\n",
       "      <td>b'w'</td>\n",
       "      <td>b'p'</td>\n",
       "      <td>b'w'</td>\n",
       "      <td>b'o'</td>\n",
       "      <td>b'p'</td>\n",
       "      <td>b'n'</td>\n",
       "      <td>b'y'</td>\n",
       "      <td>b'd'</td>\n",
       "      <td>True</td>\n",
       "    </tr>\n",
       "    <tr>\n",
       "      <th>8123</th>\n",
       "      <td>b'k'</td>\n",
       "      <td>b'y'</td>\n",
       "      <td>b'e'</td>\n",
       "      <td>b'f'</td>\n",
       "      <td>b'f'</td>\n",
       "      <td>b'f'</td>\n",
       "      <td>b'c'</td>\n",
       "      <td>b'n'</td>\n",
       "      <td>b'b'</td>\n",
       "      <td>b't'</td>\n",
       "      <td>...</td>\n",
       "      <td>b'w'</td>\n",
       "      <td>b'p'</td>\n",
       "      <td>b'p'</td>\n",
       "      <td>b'w'</td>\n",
       "      <td>b'o'</td>\n",
       "      <td>b'e'</td>\n",
       "      <td>b'w'</td>\n",
       "      <td>b'v'</td>\n",
       "      <td>b'p'</td>\n",
       "      <td>False</td>\n",
       "    </tr>\n",
       "  </tbody>\n",
       "</table>\n",
       "<p>8124 rows × 23 columns</p>\n",
       "</div>"
      ],
      "text/plain": [
       "     cap-shape cap-surface cap-color bruises  odor gill-attachment  \\\n",
       "0         b'f'        b's'      b'w'    b'f'  b'n'            b'f'   \n",
       "1         b'f'        b'y'      b'g'    b't'  b'n'            b'f'   \n",
       "2         b'f'        b's'      b'e'    b'f'  b's'            b'f'   \n",
       "3         b'f'        b'f'      b'g'    b't'  b'n'            b'f'   \n",
       "4         b'x'        b'y'      b'y'    b'f'  b'f'            b'f'   \n",
       "...        ...         ...       ...     ...   ...             ...   \n",
       "8119      b'b'        b's'      b'y'    b't'  b'a'            b'f'   \n",
       "8120      b'x'        b'y'      b'y'    b't'  b'l'            b'f'   \n",
       "8121      b'x'        b's'      b'b'    b't'  b'f'            b'f'   \n",
       "8122      b'x'        b'y'      b'g'    b't'  b'n'            b'f'   \n",
       "8123      b'k'        b'y'      b'e'    b'f'  b'f'            b'f'   \n",
       "\n",
       "     gill-spacing gill-size gill-color stalk-shape  ...  \\\n",
       "0            b'w'      b'b'       b'n'        b't'  ...   \n",
       "1            b'c'      b'b'       b'u'        b't'  ...   \n",
       "2            b'c'      b'n'       b'b'        b't'  ...   \n",
       "3            b'c'      b'b'       b'u'        b't'  ...   \n",
       "4            b'c'      b'b'       b'p'        b'e'  ...   \n",
       "...           ...       ...        ...         ...  ...   \n",
       "8119         b'c'      b'b'       b'w'        b'e'  ...   \n",
       "8120         b'c'      b'b'       b'p'        b'e'  ...   \n",
       "8121         b'c'      b'b'       b'w'        b't'  ...   \n",
       "8122         b'c'      b'b'       b'n'        b't'  ...   \n",
       "8123         b'c'      b'n'       b'b'        b't'  ...   \n",
       "\n",
       "     stalk-color-above-ring stalk-color-below-ring veil-type veil-color  \\\n",
       "0                      b'w'                   b'w'      b'p'       b'w'   \n",
       "1                      b'w'                   b'p'      b'p'       b'w'   \n",
       "2                      b'w'                   b'p'      b'p'       b'w'   \n",
       "3                      b'p'                   b'g'      b'p'       b'w'   \n",
       "4                      b'n'                   b'n'      b'p'       b'w'   \n",
       "...                     ...                    ...       ...        ...   \n",
       "8119                   b'w'                   b'w'      b'p'       b'w'   \n",
       "8120                   b'w'                   b'w'      b'p'       b'w'   \n",
       "8121                   b'w'                   b'w'      b'p'       b'w'   \n",
       "8122                   b'w'                   b'w'      b'p'       b'w'   \n",
       "8123                   b'w'                   b'p'      b'p'       b'w'   \n",
       "\n",
       "     ring-number ring-type spore-print-color population habitat  class  \n",
       "0           b'o'      b'e'              b'n'       b's'    b'g'   True  \n",
       "1           b'o'      b'p'              b'k'       b'v'    b'd'   True  \n",
       "2           b'o'      b'e'              b'w'       b'v'    b'l'  False  \n",
       "3           b'o'      b'p'              b'n'       b'y'    b'd'   True  \n",
       "4           b'o'      b'l'              b'h'       b'v'    b'g'  False  \n",
       "...          ...       ...               ...        ...     ...    ...  \n",
       "8119        b'o'      b'p'              b'k'       b's'    b'g'   True  \n",
       "8120        b'o'      b'p'              b'k'       b's'    b'g'   True  \n",
       "8121        b'o'      b'p'              b'h'       b'v'    b'u'  False  \n",
       "8122        b'o'      b'p'              b'n'       b'y'    b'd'   True  \n",
       "8123        b'o'      b'e'              b'w'       b'v'    b'p'  False  \n",
       "\n",
       "[8124 rows x 23 columns]"
      ]
     },
     "execution_count": 7,
     "metadata": {},
     "output_type": "execute_result"
    }
   ],
   "source": [
    "df = df.sample(frac=1).reset_index(drop=True)\n",
    "df"
   ]
  },
  {
   "cell_type": "markdown",
   "id": "cc2995ec",
   "metadata": {},
   "source": [
    "I was interested in this dataset. However, this task requires a small dataset size (several hundred lines). Therefore, I move the dataset and randomly select 1000 rows from it. This will be my dataset for this task."
   ]
  },
  {
   "cell_type": "code",
   "execution_count": 8,
   "id": "d90ff06d",
   "metadata": {
    "scrolled": true
   },
   "outputs": [
    {
     "data": {
      "text/html": [
       "<div>\n",
       "<style scoped>\n",
       "    .dataframe tbody tr th:only-of-type {\n",
       "        vertical-align: middle;\n",
       "    }\n",
       "\n",
       "    .dataframe tbody tr th {\n",
       "        vertical-align: top;\n",
       "    }\n",
       "\n",
       "    .dataframe thead th {\n",
       "        text-align: right;\n",
       "    }\n",
       "</style>\n",
       "<table border=\"1\" class=\"dataframe\">\n",
       "  <thead>\n",
       "    <tr style=\"text-align: right;\">\n",
       "      <th></th>\n",
       "      <th>cap-shape</th>\n",
       "      <th>cap-surface</th>\n",
       "      <th>cap-color</th>\n",
       "      <th>bruises</th>\n",
       "      <th>odor</th>\n",
       "      <th>gill-attachment</th>\n",
       "      <th>gill-spacing</th>\n",
       "      <th>gill-size</th>\n",
       "      <th>gill-color</th>\n",
       "      <th>stalk-shape</th>\n",
       "      <th>...</th>\n",
       "      <th>stalk-color-above-ring</th>\n",
       "      <th>stalk-color-below-ring</th>\n",
       "      <th>veil-type</th>\n",
       "      <th>veil-color</th>\n",
       "      <th>ring-number</th>\n",
       "      <th>ring-type</th>\n",
       "      <th>spore-print-color</th>\n",
       "      <th>population</th>\n",
       "      <th>habitat</th>\n",
       "      <th>class</th>\n",
       "    </tr>\n",
       "  </thead>\n",
       "  <tbody>\n",
       "    <tr>\n",
       "      <th>0</th>\n",
       "      <td>b'f'</td>\n",
       "      <td>b's'</td>\n",
       "      <td>b'w'</td>\n",
       "      <td>b'f'</td>\n",
       "      <td>b'n'</td>\n",
       "      <td>b'f'</td>\n",
       "      <td>b'w'</td>\n",
       "      <td>b'b'</td>\n",
       "      <td>b'n'</td>\n",
       "      <td>b't'</td>\n",
       "      <td>...</td>\n",
       "      <td>b'w'</td>\n",
       "      <td>b'w'</td>\n",
       "      <td>b'p'</td>\n",
       "      <td>b'w'</td>\n",
       "      <td>b'o'</td>\n",
       "      <td>b'e'</td>\n",
       "      <td>b'n'</td>\n",
       "      <td>b's'</td>\n",
       "      <td>b'g'</td>\n",
       "      <td>True</td>\n",
       "    </tr>\n",
       "    <tr>\n",
       "      <th>1</th>\n",
       "      <td>b'f'</td>\n",
       "      <td>b'y'</td>\n",
       "      <td>b'g'</td>\n",
       "      <td>b't'</td>\n",
       "      <td>b'n'</td>\n",
       "      <td>b'f'</td>\n",
       "      <td>b'c'</td>\n",
       "      <td>b'b'</td>\n",
       "      <td>b'u'</td>\n",
       "      <td>b't'</td>\n",
       "      <td>...</td>\n",
       "      <td>b'w'</td>\n",
       "      <td>b'p'</td>\n",
       "      <td>b'p'</td>\n",
       "      <td>b'w'</td>\n",
       "      <td>b'o'</td>\n",
       "      <td>b'p'</td>\n",
       "      <td>b'k'</td>\n",
       "      <td>b'v'</td>\n",
       "      <td>b'd'</td>\n",
       "      <td>True</td>\n",
       "    </tr>\n",
       "    <tr>\n",
       "      <th>2</th>\n",
       "      <td>b'f'</td>\n",
       "      <td>b's'</td>\n",
       "      <td>b'e'</td>\n",
       "      <td>b'f'</td>\n",
       "      <td>b's'</td>\n",
       "      <td>b'f'</td>\n",
       "      <td>b'c'</td>\n",
       "      <td>b'n'</td>\n",
       "      <td>b'b'</td>\n",
       "      <td>b't'</td>\n",
       "      <td>...</td>\n",
       "      <td>b'w'</td>\n",
       "      <td>b'p'</td>\n",
       "      <td>b'p'</td>\n",
       "      <td>b'w'</td>\n",
       "      <td>b'o'</td>\n",
       "      <td>b'e'</td>\n",
       "      <td>b'w'</td>\n",
       "      <td>b'v'</td>\n",
       "      <td>b'l'</td>\n",
       "      <td>False</td>\n",
       "    </tr>\n",
       "    <tr>\n",
       "      <th>3</th>\n",
       "      <td>b'f'</td>\n",
       "      <td>b'f'</td>\n",
       "      <td>b'g'</td>\n",
       "      <td>b't'</td>\n",
       "      <td>b'n'</td>\n",
       "      <td>b'f'</td>\n",
       "      <td>b'c'</td>\n",
       "      <td>b'b'</td>\n",
       "      <td>b'u'</td>\n",
       "      <td>b't'</td>\n",
       "      <td>...</td>\n",
       "      <td>b'p'</td>\n",
       "      <td>b'g'</td>\n",
       "      <td>b'p'</td>\n",
       "      <td>b'w'</td>\n",
       "      <td>b'o'</td>\n",
       "      <td>b'p'</td>\n",
       "      <td>b'n'</td>\n",
       "      <td>b'y'</td>\n",
       "      <td>b'd'</td>\n",
       "      <td>True</td>\n",
       "    </tr>\n",
       "    <tr>\n",
       "      <th>4</th>\n",
       "      <td>b'x'</td>\n",
       "      <td>b'y'</td>\n",
       "      <td>b'y'</td>\n",
       "      <td>b'f'</td>\n",
       "      <td>b'f'</td>\n",
       "      <td>b'f'</td>\n",
       "      <td>b'c'</td>\n",
       "      <td>b'b'</td>\n",
       "      <td>b'p'</td>\n",
       "      <td>b'e'</td>\n",
       "      <td>...</td>\n",
       "      <td>b'n'</td>\n",
       "      <td>b'n'</td>\n",
       "      <td>b'p'</td>\n",
       "      <td>b'w'</td>\n",
       "      <td>b'o'</td>\n",
       "      <td>b'l'</td>\n",
       "      <td>b'h'</td>\n",
       "      <td>b'v'</td>\n",
       "      <td>b'g'</td>\n",
       "      <td>False</td>\n",
       "    </tr>\n",
       "    <tr>\n",
       "      <th>...</th>\n",
       "      <td>...</td>\n",
       "      <td>...</td>\n",
       "      <td>...</td>\n",
       "      <td>...</td>\n",
       "      <td>...</td>\n",
       "      <td>...</td>\n",
       "      <td>...</td>\n",
       "      <td>...</td>\n",
       "      <td>...</td>\n",
       "      <td>...</td>\n",
       "      <td>...</td>\n",
       "      <td>...</td>\n",
       "      <td>...</td>\n",
       "      <td>...</td>\n",
       "      <td>...</td>\n",
       "      <td>...</td>\n",
       "      <td>...</td>\n",
       "      <td>...</td>\n",
       "      <td>...</td>\n",
       "      <td>...</td>\n",
       "      <td>...</td>\n",
       "    </tr>\n",
       "    <tr>\n",
       "      <th>995</th>\n",
       "      <td>b'f'</td>\n",
       "      <td>b'f'</td>\n",
       "      <td>b'n'</td>\n",
       "      <td>b't'</td>\n",
       "      <td>b'n'</td>\n",
       "      <td>b'f'</td>\n",
       "      <td>b'c'</td>\n",
       "      <td>b'b'</td>\n",
       "      <td>b'w'</td>\n",
       "      <td>b't'</td>\n",
       "      <td>...</td>\n",
       "      <td>b'p'</td>\n",
       "      <td>b'p'</td>\n",
       "      <td>b'p'</td>\n",
       "      <td>b'w'</td>\n",
       "      <td>b'o'</td>\n",
       "      <td>b'p'</td>\n",
       "      <td>b'k'</td>\n",
       "      <td>b'v'</td>\n",
       "      <td>b'd'</td>\n",
       "      <td>True</td>\n",
       "    </tr>\n",
       "    <tr>\n",
       "      <th>996</th>\n",
       "      <td>b'f'</td>\n",
       "      <td>b'f'</td>\n",
       "      <td>b'n'</td>\n",
       "      <td>b't'</td>\n",
       "      <td>b'n'</td>\n",
       "      <td>b'f'</td>\n",
       "      <td>b'c'</td>\n",
       "      <td>b'b'</td>\n",
       "      <td>b'p'</td>\n",
       "      <td>b't'</td>\n",
       "      <td>...</td>\n",
       "      <td>b'p'</td>\n",
       "      <td>b'w'</td>\n",
       "      <td>b'p'</td>\n",
       "      <td>b'w'</td>\n",
       "      <td>b'o'</td>\n",
       "      <td>b'p'</td>\n",
       "      <td>b'n'</td>\n",
       "      <td>b'y'</td>\n",
       "      <td>b'd'</td>\n",
       "      <td>True</td>\n",
       "    </tr>\n",
       "    <tr>\n",
       "      <th>997</th>\n",
       "      <td>b'x'</td>\n",
       "      <td>b'f'</td>\n",
       "      <td>b'g'</td>\n",
       "      <td>b't'</td>\n",
       "      <td>b'n'</td>\n",
       "      <td>b'f'</td>\n",
       "      <td>b'c'</td>\n",
       "      <td>b'b'</td>\n",
       "      <td>b'n'</td>\n",
       "      <td>b't'</td>\n",
       "      <td>...</td>\n",
       "      <td>b'g'</td>\n",
       "      <td>b'g'</td>\n",
       "      <td>b'p'</td>\n",
       "      <td>b'w'</td>\n",
       "      <td>b'o'</td>\n",
       "      <td>b'p'</td>\n",
       "      <td>b'k'</td>\n",
       "      <td>b'v'</td>\n",
       "      <td>b'd'</td>\n",
       "      <td>True</td>\n",
       "    </tr>\n",
       "    <tr>\n",
       "      <th>998</th>\n",
       "      <td>b'x'</td>\n",
       "      <td>b'y'</td>\n",
       "      <td>b'e'</td>\n",
       "      <td>b't'</td>\n",
       "      <td>b'n'</td>\n",
       "      <td>b'f'</td>\n",
       "      <td>b'c'</td>\n",
       "      <td>b'b'</td>\n",
       "      <td>b'w'</td>\n",
       "      <td>b't'</td>\n",
       "      <td>...</td>\n",
       "      <td>b'p'</td>\n",
       "      <td>b'g'</td>\n",
       "      <td>b'p'</td>\n",
       "      <td>b'w'</td>\n",
       "      <td>b'o'</td>\n",
       "      <td>b'p'</td>\n",
       "      <td>b'n'</td>\n",
       "      <td>b'y'</td>\n",
       "      <td>b'd'</td>\n",
       "      <td>True</td>\n",
       "    </tr>\n",
       "    <tr>\n",
       "      <th>999</th>\n",
       "      <td>b'k'</td>\n",
       "      <td>b'y'</td>\n",
       "      <td>b'e'</td>\n",
       "      <td>b'f'</td>\n",
       "      <td>b'y'</td>\n",
       "      <td>b'f'</td>\n",
       "      <td>b'c'</td>\n",
       "      <td>b'n'</td>\n",
       "      <td>b'b'</td>\n",
       "      <td>b't'</td>\n",
       "      <td>...</td>\n",
       "      <td>b'p'</td>\n",
       "      <td>b'p'</td>\n",
       "      <td>b'p'</td>\n",
       "      <td>b'w'</td>\n",
       "      <td>b'o'</td>\n",
       "      <td>b'e'</td>\n",
       "      <td>b'w'</td>\n",
       "      <td>b'v'</td>\n",
       "      <td>b'd'</td>\n",
       "      <td>False</td>\n",
       "    </tr>\n",
       "  </tbody>\n",
       "</table>\n",
       "<p>1000 rows × 23 columns</p>\n",
       "</div>"
      ],
      "text/plain": [
       "    cap-shape cap-surface cap-color bruises  odor gill-attachment  \\\n",
       "0        b'f'        b's'      b'w'    b'f'  b'n'            b'f'   \n",
       "1        b'f'        b'y'      b'g'    b't'  b'n'            b'f'   \n",
       "2        b'f'        b's'      b'e'    b'f'  b's'            b'f'   \n",
       "3        b'f'        b'f'      b'g'    b't'  b'n'            b'f'   \n",
       "4        b'x'        b'y'      b'y'    b'f'  b'f'            b'f'   \n",
       "..        ...         ...       ...     ...   ...             ...   \n",
       "995      b'f'        b'f'      b'n'    b't'  b'n'            b'f'   \n",
       "996      b'f'        b'f'      b'n'    b't'  b'n'            b'f'   \n",
       "997      b'x'        b'f'      b'g'    b't'  b'n'            b'f'   \n",
       "998      b'x'        b'y'      b'e'    b't'  b'n'            b'f'   \n",
       "999      b'k'        b'y'      b'e'    b'f'  b'y'            b'f'   \n",
       "\n",
       "    gill-spacing gill-size gill-color stalk-shape  ... stalk-color-above-ring  \\\n",
       "0           b'w'      b'b'       b'n'        b't'  ...                   b'w'   \n",
       "1           b'c'      b'b'       b'u'        b't'  ...                   b'w'   \n",
       "2           b'c'      b'n'       b'b'        b't'  ...                   b'w'   \n",
       "3           b'c'      b'b'       b'u'        b't'  ...                   b'p'   \n",
       "4           b'c'      b'b'       b'p'        b'e'  ...                   b'n'   \n",
       "..           ...       ...        ...         ...  ...                    ...   \n",
       "995         b'c'      b'b'       b'w'        b't'  ...                   b'p'   \n",
       "996         b'c'      b'b'       b'p'        b't'  ...                   b'p'   \n",
       "997         b'c'      b'b'       b'n'        b't'  ...                   b'g'   \n",
       "998         b'c'      b'b'       b'w'        b't'  ...                   b'p'   \n",
       "999         b'c'      b'n'       b'b'        b't'  ...                   b'p'   \n",
       "\n",
       "    stalk-color-below-ring veil-type veil-color ring-number ring-type  \\\n",
       "0                     b'w'      b'p'       b'w'        b'o'      b'e'   \n",
       "1                     b'p'      b'p'       b'w'        b'o'      b'p'   \n",
       "2                     b'p'      b'p'       b'w'        b'o'      b'e'   \n",
       "3                     b'g'      b'p'       b'w'        b'o'      b'p'   \n",
       "4                     b'n'      b'p'       b'w'        b'o'      b'l'   \n",
       "..                     ...       ...        ...         ...       ...   \n",
       "995                   b'p'      b'p'       b'w'        b'o'      b'p'   \n",
       "996                   b'w'      b'p'       b'w'        b'o'      b'p'   \n",
       "997                   b'g'      b'p'       b'w'        b'o'      b'p'   \n",
       "998                   b'g'      b'p'       b'w'        b'o'      b'p'   \n",
       "999                   b'p'      b'p'       b'w'        b'o'      b'e'   \n",
       "\n",
       "    spore-print-color population habitat  class  \n",
       "0                b'n'       b's'    b'g'   True  \n",
       "1                b'k'       b'v'    b'd'   True  \n",
       "2                b'w'       b'v'    b'l'  False  \n",
       "3                b'n'       b'y'    b'd'   True  \n",
       "4                b'h'       b'v'    b'g'  False  \n",
       "..                ...        ...     ...    ...  \n",
       "995              b'k'       b'v'    b'd'   True  \n",
       "996              b'n'       b'y'    b'd'   True  \n",
       "997              b'k'       b'v'    b'd'   True  \n",
       "998              b'n'       b'y'    b'd'   True  \n",
       "999              b'w'       b'v'    b'd'  False  \n",
       "\n",
       "[1000 rows x 23 columns]"
      ]
     },
     "execution_count": 8,
     "metadata": {},
     "output_type": "execute_result"
    }
   ],
   "source": [
    "df = df.loc[0:999]\n",
    "df"
   ]
  },
  {
   "cell_type": "markdown",
   "id": "ae208bad",
   "metadata": {},
   "source": [
    "Binarize data"
   ]
  },
  {
   "cell_type": "markdown",
   "id": "7d62f574",
   "metadata": {},
   "source": [
    "All independent variables are categorical. Therefore, it is necessary to create separate columns for each category: if the observation has this characteristic, then it is true, in another case it is false. Binarization must be performed for all variables ."
   ]
  },
  {
   "cell_type": "code",
   "execution_count": 9,
   "id": "94a6616a",
   "metadata": {},
   "outputs": [],
   "source": [
    "y_name = 'class'"
   ]
  },
  {
   "cell_type": "code",
   "execution_count": 10,
   "id": "485bd398",
   "metadata": {
    "scrolled": true
   },
   "outputs": [
    {
     "name": "stdout",
     "output_type": "stream",
     "text": [
      "(1000, 113)\n"
     ]
    },
    {
     "data": {
      "text/html": [
       "<div>\n",
       "<style scoped>\n",
       "    .dataframe tbody tr th:only-of-type {\n",
       "        vertical-align: middle;\n",
       "    }\n",
       "\n",
       "    .dataframe tbody tr th {\n",
       "        vertical-align: top;\n",
       "    }\n",
       "\n",
       "    .dataframe thead th {\n",
       "        text-align: right;\n",
       "    }\n",
       "</style>\n",
       "<table border=\"1\" class=\"dataframe\">\n",
       "  <thead>\n",
       "    <tr style=\"text-align: right;\">\n",
       "      <th></th>\n",
       "      <th>cap-shape: b'b'</th>\n",
       "      <th>cap-shape: b'f'</th>\n",
       "      <th>cap-shape: b'k'</th>\n",
       "      <th>cap-shape: b's'</th>\n",
       "      <th>cap-shape: b'x'</th>\n",
       "      <th>cap-surface: b'f'</th>\n",
       "      <th>cap-surface: b's'</th>\n",
       "      <th>cap-surface: b'y'</th>\n",
       "      <th>cap-color: b'b'</th>\n",
       "      <th>cap-color: b'c'</th>\n",
       "      <th>...</th>\n",
       "      <th>population: b's'</th>\n",
       "      <th>population: b'v'</th>\n",
       "      <th>population: b'y'</th>\n",
       "      <th>habitat: b'd'</th>\n",
       "      <th>habitat: b'g'</th>\n",
       "      <th>habitat: b'l'</th>\n",
       "      <th>habitat: b'm'</th>\n",
       "      <th>habitat: b'p'</th>\n",
       "      <th>habitat: b'u'</th>\n",
       "      <th>habitat: b'w'</th>\n",
       "    </tr>\n",
       "  </thead>\n",
       "  <tbody>\n",
       "    <tr>\n",
       "      <th>0</th>\n",
       "      <td>False</td>\n",
       "      <td>True</td>\n",
       "      <td>False</td>\n",
       "      <td>False</td>\n",
       "      <td>False</td>\n",
       "      <td>False</td>\n",
       "      <td>True</td>\n",
       "      <td>False</td>\n",
       "      <td>False</td>\n",
       "      <td>False</td>\n",
       "      <td>...</td>\n",
       "      <td>True</td>\n",
       "      <td>False</td>\n",
       "      <td>False</td>\n",
       "      <td>False</td>\n",
       "      <td>True</td>\n",
       "      <td>False</td>\n",
       "      <td>False</td>\n",
       "      <td>False</td>\n",
       "      <td>False</td>\n",
       "      <td>False</td>\n",
       "    </tr>\n",
       "    <tr>\n",
       "      <th>1</th>\n",
       "      <td>False</td>\n",
       "      <td>True</td>\n",
       "      <td>False</td>\n",
       "      <td>False</td>\n",
       "      <td>False</td>\n",
       "      <td>False</td>\n",
       "      <td>False</td>\n",
       "      <td>True</td>\n",
       "      <td>False</td>\n",
       "      <td>False</td>\n",
       "      <td>...</td>\n",
       "      <td>False</td>\n",
       "      <td>True</td>\n",
       "      <td>False</td>\n",
       "      <td>True</td>\n",
       "      <td>False</td>\n",
       "      <td>False</td>\n",
       "      <td>False</td>\n",
       "      <td>False</td>\n",
       "      <td>False</td>\n",
       "      <td>False</td>\n",
       "    </tr>\n",
       "    <tr>\n",
       "      <th>2</th>\n",
       "      <td>False</td>\n",
       "      <td>True</td>\n",
       "      <td>False</td>\n",
       "      <td>False</td>\n",
       "      <td>False</td>\n",
       "      <td>False</td>\n",
       "      <td>True</td>\n",
       "      <td>False</td>\n",
       "      <td>False</td>\n",
       "      <td>False</td>\n",
       "      <td>...</td>\n",
       "      <td>False</td>\n",
       "      <td>True</td>\n",
       "      <td>False</td>\n",
       "      <td>False</td>\n",
       "      <td>False</td>\n",
       "      <td>True</td>\n",
       "      <td>False</td>\n",
       "      <td>False</td>\n",
       "      <td>False</td>\n",
       "      <td>False</td>\n",
       "    </tr>\n",
       "    <tr>\n",
       "      <th>3</th>\n",
       "      <td>False</td>\n",
       "      <td>True</td>\n",
       "      <td>False</td>\n",
       "      <td>False</td>\n",
       "      <td>False</td>\n",
       "      <td>True</td>\n",
       "      <td>False</td>\n",
       "      <td>False</td>\n",
       "      <td>False</td>\n",
       "      <td>False</td>\n",
       "      <td>...</td>\n",
       "      <td>False</td>\n",
       "      <td>False</td>\n",
       "      <td>True</td>\n",
       "      <td>True</td>\n",
       "      <td>False</td>\n",
       "      <td>False</td>\n",
       "      <td>False</td>\n",
       "      <td>False</td>\n",
       "      <td>False</td>\n",
       "      <td>False</td>\n",
       "    </tr>\n",
       "    <tr>\n",
       "      <th>4</th>\n",
       "      <td>False</td>\n",
       "      <td>False</td>\n",
       "      <td>False</td>\n",
       "      <td>False</td>\n",
       "      <td>True</td>\n",
       "      <td>False</td>\n",
       "      <td>False</td>\n",
       "      <td>True</td>\n",
       "      <td>False</td>\n",
       "      <td>False</td>\n",
       "      <td>...</td>\n",
       "      <td>False</td>\n",
       "      <td>True</td>\n",
       "      <td>False</td>\n",
       "      <td>False</td>\n",
       "      <td>True</td>\n",
       "      <td>False</td>\n",
       "      <td>False</td>\n",
       "      <td>False</td>\n",
       "      <td>False</td>\n",
       "      <td>False</td>\n",
       "    </tr>\n",
       "  </tbody>\n",
       "</table>\n",
       "<p>5 rows × 113 columns</p>\n",
       "</div>"
      ],
      "text/plain": [
       "   cap-shape: b'b'  cap-shape: b'f'  cap-shape: b'k'  cap-shape: b's'  \\\n",
       "0            False             True            False            False   \n",
       "1            False             True            False            False   \n",
       "2            False             True            False            False   \n",
       "3            False             True            False            False   \n",
       "4            False            False            False            False   \n",
       "\n",
       "   cap-shape: b'x'  cap-surface: b'f'  cap-surface: b's'  cap-surface: b'y'  \\\n",
       "0            False              False               True              False   \n",
       "1            False              False              False               True   \n",
       "2            False              False               True              False   \n",
       "3            False               True              False              False   \n",
       "4             True              False              False               True   \n",
       "\n",
       "   cap-color: b'b'  cap-color: b'c'  ...  population: b's'  population: b'v'  \\\n",
       "0            False            False  ...              True             False   \n",
       "1            False            False  ...             False              True   \n",
       "2            False            False  ...             False              True   \n",
       "3            False            False  ...             False             False   \n",
       "4            False            False  ...             False              True   \n",
       "\n",
       "   population: b'y'  habitat: b'd'  habitat: b'g'  habitat: b'l'  \\\n",
       "0             False          False           True          False   \n",
       "1             False           True          False          False   \n",
       "2             False          False          False           True   \n",
       "3              True           True          False          False   \n",
       "4             False          False           True          False   \n",
       "\n",
       "   habitat: b'm'  habitat: b'p'  habitat: b'u'  habitat: b'w'  \n",
       "0          False          False          False          False  \n",
       "1          False          False          False          False  \n",
       "2          False          False          False          False  \n",
       "3          False          False          False          False  \n",
       "4          False          False          False          False  \n",
       "\n",
       "[5 rows x 113 columns]"
      ]
     },
     "execution_count": 10,
     "metadata": {},
     "output_type": "execute_result"
    }
   ],
   "source": [
    "y = df[y_name]\n",
    "X = lpipe.binarize_X(df.drop(y_name, axis=1))\n",
    "print(X.shape)\n",
    "X.head()"
   ]
  },
  {
   "cell_type": "markdown",
   "id": "a376787f",
   "metadata": {},
   "source": [
    "Shuffle the data to drop any initial ordering of rows."
   ]
  },
  {
   "cell_type": "code",
   "execution_count": 11,
   "id": "1eb88781",
   "metadata": {},
   "outputs": [],
   "source": [
    "X = X.sample(frac=1, random_state=42)  # Shuffle X\n",
    "y = y[X.index]  # Order y to follow the order of rows from X"
   ]
  },
  {
   "cell_type": "markdown",
   "id": "bb482751",
   "metadata": {},
   "source": [
    "Represent data  as list of subsets of attributes to better suit the theory."
   ]
  },
  {
   "cell_type": "code",
   "execution_count": 12,
   "id": "3a9d5fa2",
   "metadata": {
    "scrolled": true
   },
   "outputs": [
    {
     "data": {
      "text/plain": [
       "{\"bruises: b't'\",\n",
       " \"cap-color: b'n'\",\n",
       " \"cap-shape: b'f'\",\n",
       " \"cap-surface: b'y'\",\n",
       " \"gill-attachment: b'f'\",\n",
       " \"gill-color: b'n'\",\n",
       " \"gill-size: b'b'\",\n",
       " \"gill-spacing: b'c'\",\n",
       " \"habitat: b'd'\",\n",
       " \"odor: b'n'\",\n",
       " \"population: b'y'\",\n",
       " \"ring-number: b'o'\",\n",
       " \"ring-type: b'p'\",\n",
       " \"spore-print-color: b'n'\",\n",
       " \"stalk-color-above-ring: b'p'\",\n",
       " \"stalk-color-below-ring: b'w'\",\n",
       " \"stalk-root: b'b'\",\n",
       " \"stalk-shape: b't'\",\n",
       " \"stalk-surface-above-ring: b's'\",\n",
       " \"stalk-surface-below-ring: b's'\",\n",
       " \"veil-color: b'w'\",\n",
       " \"veil-type: b'p'\"}"
      ]
     },
     "execution_count": 12,
     "metadata": {},
     "output_type": "execute_result"
    }
   ],
   "source": [
    "X_bin = [set(X.columns[x]) for idx, x in X.iterrows()]\n",
    "X_bin[0]"
   ]
  },
  {
   "cell_type": "markdown",
   "id": "7316f59c",
   "metadata": {},
   "source": [
    "And, for being consisted, convert  to list too."
   ]
  },
  {
   "cell_type": "code",
   "execution_count": 13,
   "id": "0a181822",
   "metadata": {},
   "outputs": [],
   "source": [
    "y = y.values.tolist()"
   ]
  },
  {
   "cell_type": "markdown",
   "id": "fc5585bd",
   "metadata": {},
   "source": [
    "Assume that at the very begining, we know the labels only for the first 20% of rows."
   ]
  },
  {
   "cell_type": "code",
   "execution_count": 14,
   "id": "87ab901c",
   "metadata": {},
   "outputs": [
    {
     "data": {
      "text/plain": [
       "(100, 900)"
      ]
     },
     "execution_count": 14,
     "metadata": {},
     "output_type": "execute_result"
    }
   ],
   "source": [
    "n_train = int(len(X)*0.1)\n",
    "n_test = len(X) - n_train\n",
    "n_train, n_test"
   ]
  },
  {
   "cell_type": "markdown",
   "id": "9874f6e5",
   "metadata": {},
   "source": [
    "Set up the test target labels"
   ]
  },
  {
   "cell_type": "code",
   "execution_count": 15,
   "id": "d1b74b25",
   "metadata": {},
   "outputs": [],
   "source": [
    "y_test = y[n_train:]"
   ]
  },
  {
   "cell_type": "markdown",
   "id": "9ebb2e02",
   "metadata": {},
   "source": [
    "Make predictions and measure time required to obtain these predictions"
   ]
  },
  {
   "cell_type": "code",
   "execution_count": 16,
   "id": "86fb601b",
   "metadata": {},
   "outputs": [
    {
     "name": "stderr",
     "output_type": "stream",
     "text": [
      "Predicting step by step: 100%|█████████████████████████████████████████████████████| 1000/1000 [01:51<00:00,  8.10it/s]"
     ]
    },
    {
     "name": "stdout",
     "output_type": "stream",
     "text": [
      "CPU times: total: 1min 49s\n",
      "Wall time: 1min 51s\n"
     ]
    },
    {
     "name": "stderr",
     "output_type": "stream",
     "text": [
      "\n"
     ]
    }
   ],
   "source": [
    "%%time\n",
    "gen = lpipe.predict_array(X_bin, y, n_train, use_tqdm=True)\n",
    "y_preds, t_preds = lpipe.apply_stopwatch(gen)"
   ]
  },
  {
   "cell_type": "code",
   "execution_count": 17,
   "id": "ea52e10a",
   "metadata": {
    "scrolled": false
   },
   "outputs": [
    {
     "name": "stderr",
     "output_type": "stream",
     "text": [
      "Predicting step by step: 100%|████████████████████████████████████████████████████| 1000/1000 [00:03<00:00, 250.95it/s]"
     ]
    },
    {
     "name": "stdout",
     "output_type": "stream",
     "text": [
      "CPU times: total: 3.58 s\n",
      "Wall time: 3.6 s\n"
     ]
    },
    {
     "name": "stderr",
     "output_type": "stream",
     "text": [
      "\n"
     ]
    }
   ],
   "source": [
    "%%time\n",
    "gen = list(lpipe.predict_array(X_bin, y, n_train, use_tqdm=True, update_train=False))\n",
    "y_preds_fixedtrain, t_preds_fixedtrain = lpipe.apply_stopwatch(gen)"
   ]
  },
  {
   "cell_type": "markdown",
   "id": "3358949e",
   "metadata": {},
   "source": [
    "Evaluate predictions"
   ]
  },
  {
   "cell_type": "markdown",
   "id": "2a5af4f3",
   "metadata": {},
   "source": [
    "Accuracy represents the number of correctly classified data instances over the total number of data instances."
   ]
  },
  {
   "cell_type": "markdown",
   "id": "30d5cb1a",
   "metadata": {},
   "source": [
    "Precision should ideally be 1 (high) for a good classifier. Precision becomes 1 only when the numerator and denominator are equal i.e TP = TP +FP, this also means FP is zero. "
   ]
  },
  {
   "cell_type": "markdown",
   "id": "1aaa58f8",
   "metadata": {},
   "source": [
    "Recall should ideally be 1 (high) for a good classifier. Recall becomes 1 only when the numerator and denominator are equal i.e TP = TP +FN, this also means FN is zero."
   ]
  },
  {
   "cell_type": "markdown",
   "id": "ef30a5bb",
   "metadata": {},
   "source": [
    "F1 Score becomes 1 only when precision and recall are both 1. F1 score becomes high only when both precision and recall are high. F1 score is the harmonic mean of precision and recall and is a better measure than accuracy."
   ]
  },
  {
   "cell_type": "code",
   "execution_count": 18,
   "id": "52b98abd",
   "metadata": {
    "scrolled": true
   },
   "outputs": [],
   "source": [
    "from sklearn.metrics import accuracy_score, f1_score, recall_score, precision_score\n",
    "score_vals = {}\n",
    "for score_f in [accuracy_score, f1_score, recall_score, precision_score]:\n",
    "    score_name = score_f.__name__\n",
    "    preds = y_preds\n",
    "    score_vals[score_name] = [score_f(y_test[:i], preds[:i]) for i in range(1, len(preds))]\n",
    "    \n",
    "    score_name = score_f.__name__ + '_fixedtrain'\n",
    "    preds = y_preds_fixedtrain\n",
    "    score_vals[score_name] = [score_f(y_test[:i], preds[:i]) for i in range(1, len(preds))]\n"
   ]
  },
  {
   "cell_type": "code",
   "execution_count": 19,
   "id": "16c6dba3",
   "metadata": {
    "scrolled": true
   },
   "outputs": [
    {
     "data": {
      "image/png": "[encoded data removed]",
      "text/plain": [
       "<Figure size 1440x864 with 8 Axes>"
      ]
     },
     "metadata": {},
     "output_type": "display_data"
    }
   ],
   "source": [
    "import matplotlib.pyplot as plt\n",
    "plt.rcParams['figure.facecolor'] = (1,1,1,1)  # Replace default \"transparent\" background of the figure with the \"white\" one\n",
    "\n",
    "\n",
    "fig, axs = plt.subplots(2, 4, figsize=(20, 12))\n",
    "\n",
    "# First two plots are for prediction quality comparison\n",
    "for ax, t in zip(axs[0],['accuracy_score', 'f1_score', 'recall_score' , 'precision_score']):\n",
    "    ax.set_ylim(0-0.05, 1+0.05)\n",
    "    ax.plot(range(n_train+1, len(X)), score_vals[t], label='baseline clf.')\n",
    "    ax.plot(range(n_train+1, len(X)), score_vals[t+'_fixedtrain'], label='baseline clf. (fixed train)')\n",
    "    \n",
    "# The third plot is for prediction speed comparison\n",
    "axs[1,0].plot(range(n_train, len(X)), t_preds, label='baseline clf.')\n",
    "axs[1,0].plot(range(n_train, len(X)), t_preds_fixedtrain, label='baseline clf. (fixed train)')\n",
    "\n",
    "# Add labels and titles to the plots\n",
    "for (ax, t_verb, dim) in zip(axs.flatten(), ['Accuracy score', 'F1 score', 'Recall', \"Precision\", 'Prediction time', ], ['','', '', '','(secs.)',]):\n",
    "    ax.set_title('\\n'.join([f\"{t_verb} progression\", \"w.r.t. the number of train examples\"]), loc='left', size=18)\n",
    "    ax.set_xlabel('# of train examples', loc='right', size=14)\n",
    "    ax.set_ylabel(f\"{t_verb} {dim}\".strip(), loc='top', size=14)\n",
    "    ax.legend()\n",
    "    \n",
    "# Drop the predefined fourth plot since we do not use it\n",
    "axs[1,1].set_axis_off()    \n",
    "\n",
    "# Some postprocessing of plots\n",
    "plt.tight_layout()\n",
    "plt.subplots_adjust()\n",
    "\n",
    "plt.savefig('Classifier_comparison.png')\n",
    "plt.show()"
   ]
  },
  {
   "cell_type": "code",
   "execution_count": 20,
   "id": "282418f2",
   "metadata": {},
   "outputs": [
    {
     "data": {
      "text/plain": [
       "94.7138247841999"
      ]
     },
     "execution_count": 20,
     "metadata": {},
     "output_type": "execute_result"
    }
   ],
   "source": [
    "sum(score_vals['accuracy_score'])/len(score_vals['accuracy_score'])*100"
   ]
  },
  {
   "cell_type": "code",
   "execution_count": 21,
   "id": "0eda5f24",
   "metadata": {
    "scrolled": true
   },
   "outputs": [
    {
     "data": {
      "text/plain": [
       "95.34505699179633"
      ]
     },
     "execution_count": 21,
     "metadata": {},
     "output_type": "execute_result"
    }
   ],
   "source": [
    "sum(score_vals['f1_score'])/len(score_vals['f1_score'])*100"
   ]
  },
  {
   "cell_type": "code",
   "execution_count": 22,
   "id": "c97c110a",
   "metadata": {},
   "outputs": [
    {
     "data": {
      "text/plain": [
       "98.58085755435519"
      ]
     },
     "execution_count": 22,
     "metadata": {},
     "output_type": "execute_result"
    }
   ],
   "source": [
    "sum(score_vals['recall_score'])/len(score_vals['recall_score'])*100"
   ]
  },
  {
   "cell_type": "code",
   "execution_count": 23,
   "id": "c5cd7b53",
   "metadata": {
    "scrolled": false
   },
   "outputs": [
    {
     "data": {
      "text/plain": [
       "92.33315791038808"
      ]
     },
     "execution_count": 23,
     "metadata": {},
     "output_type": "execute_result"
    }
   ],
   "source": [
    "sum(score_vals['precision_score'])/len(score_vals['precision_score'])*100"
   ]
  },
  {
   "cell_type": "markdown",
   "id": "12f2b1f5",
   "metadata": {},
   "source": [
    "It can be concluded that the original algorithm is quite good in terms of quality indicators. However, in terms of speed - when adding observations, the algorithm will work slowly."
   ]
  },
  {
   "cell_type": "code",
   "execution_count": 29,
   "id": "a26fd8d8",
   "metadata": {},
   "outputs": [],
   "source": [
    "y = df[y_name]\n",
    "X = lpipe.binarize_X(df.drop(y_name, axis=1))"
   ]
  },
  {
   "cell_type": "code",
   "execution_count": 30,
   "id": "1168c767",
   "metadata": {},
   "outputs": [],
   "source": [
    "X = X.sample(frac=1, random_state=42)  # Shuffle X\n",
    "y = y[X.index]  # Order y to follow the order of rows from X"
   ]
  },
  {
   "cell_type": "code",
   "execution_count": 58,
   "id": "f7c55c62",
   "metadata": {},
   "outputs": [],
   "source": [
    "from sklearn.model_selection import train_test_split\n",
    "# Split data for train and test.\n",
    "X_train, X_test, y_train, y_test = train_test_split(X,y,random_state=10,test_size=0.113)"
   ]
  },
  {
   "cell_type": "code",
   "execution_count": 68,
   "id": "c7dd486e",
   "metadata": {},
   "outputs": [],
   "source": [
    "def algorithm2(y_pred):\n",
    "    for test_obj in X_test:\n",
    "        pos = np.sum(test_obj == X_train_pos) / float(len(X_train_pos))\n",
    "        neg = np.sum(test_obj == X_train_neg) / float(len(X_train_neg))\n",
    "        if (np.sum(neg) < np.sum(pos)):\n",
    "            y_pred.append(1)\n",
    "        else:\n",
    "            y_pred.append(0)"
   ]
  },
  {
   "cell_type": "code",
   "execution_count": 69,
   "id": "45c384e8",
   "metadata": {},
   "outputs": [],
   "source": [
    "X_train_pos = X_train[y_train == 1]\n",
    "X_train_neg = X_train[y_train == 0]"
   ]
  },
  {
   "cell_type": "code",
   "execution_count": 70,
   "id": "cc5df999",
   "metadata": {},
   "outputs": [],
   "source": [
    "y_pred = []\n",
    "\n",
    "algorithm2(y_pred)\n",
    "\n",
    "y_pred = np.array(y_pred)"
   ]
  },
  {
   "cell_type": "code",
   "execution_count": 71,
   "id": "9bda036d",
   "metadata": {
    "scrolled": true
   },
   "outputs": [
    {
     "data": {
      "text/plain": [
       "0.5132743362831859"
      ]
     },
     "execution_count": 71,
     "metadata": {},
     "output_type": "execute_result"
    }
   ],
   "source": [
    "accuracy_score(y_test, y_pred)"
   ]
  },
  {
   "cell_type": "code",
   "execution_count": 63,
   "id": "e4b5f633",
   "metadata": {},
   "outputs": [
    {
     "data": {
      "text/plain": [
       "0.0"
      ]
     },
     "execution_count": 63,
     "metadata": {},
     "output_type": "execute_result"
    }
   ],
   "source": [
    "f1_score(y_test, y_pred)"
   ]
  },
  {
   "cell_type": "code",
   "execution_count": 64,
   "id": "9feb9a51",
   "metadata": {},
   "outputs": [
    {
     "data": {
      "text/plain": [
       "0.0"
      ]
     },
     "execution_count": 64,
     "metadata": {},
     "output_type": "execute_result"
    }
   ],
   "source": [
    "recall_score(y_test, y_pred)"
   ]
  },
  {
   "cell_type": "code",
   "execution_count": 65,
   "id": "18c31b77",
   "metadata": {
    "scrolled": true
   },
   "outputs": [
    {
     "name": "stderr",
     "output_type": "stream",
     "text": [
      "C:\\Users\\alexs\\anaconda3\\lib\\site-packages\\sklearn\\metrics\\_classification.py:1334: UndefinedMetricWarning: Precision is ill-defined and being set to 0.0 due to no predicted samples. Use `zero_division` parameter to control this behavior.\n",
      "  _warn_prf(average, modifier, msg_start, len(result))\n"
     ]
    },
    {
     "data": {
      "text/plain": [
       "0.0"
      ]
     },
     "execution_count": 65,
     "metadata": {},
     "output_type": "execute_result"
    }
   ],
   "source": [
    "precision_score(y_test, y_pred)"
   ]
  },
  {
   "cell_type": "markdown",
   "id": "ad822267",
   "metadata": {},
   "source": [
    "The algorithm I proposed does not work well on data, despite the fact that in terms of speed it wins the first algorithm."
   ]
  },
  {
   "cell_type": "markdown",
   "id": "a6d68edd",
   "metadata": {},
   "source": [
    "Let's see how other models cope with the prediction"
   ]
  },
  {
   "cell_type": "code",
   "execution_count": 49,
   "id": "31ef1f7c",
   "metadata": {},
   "outputs": [
    {
     "name": "stdout",
     "output_type": "stream",
     "text": [
      "Test Accuracy: 99.12%\n"
     ]
    }
   ],
   "source": [
    "from sklearn.tree import DecisionTreeClassifier\n",
    "\n",
    "dt = DecisionTreeClassifier()\n",
    "dt.fit(X_train,y_train)\n",
    "\n",
    "print(\"Test Accuracy: {}%\".format(round(dt.score(X_test,y_test)*100,2)))"
   ]
  },
  {
   "cell_type": "code",
   "execution_count": 50,
   "id": "b99dbc5a",
   "metadata": {},
   "outputs": [
    {
     "name": "stdout",
     "output_type": "stream",
     "text": [
      "Test Accuracy: 100.0%\n"
     ]
    }
   ],
   "source": [
    "from sklearn.ensemble import RandomForestClassifier\n",
    "\n",
    "rf = RandomForestClassifier(n_estimators=100, random_state=42)\n",
    "rf.fit(X_train,y_train)\n",
    "\n",
    "print(\"Test Accuracy: {}%\".format(round(rf.score(X_test,y_test)*100,2)))"
   ]
  },
  {
   "cell_type": "code",
   "execution_count": 52,
   "id": "47c46b90",
   "metadata": {},
   "outputs": [
    {
     "data": {
      "image/png": "[encoded data removed]",
      "text/plain": [
       "<Figure size 360x360 with 2 Axes>"
      ]
     },
     "metadata": {},
     "output_type": "display_data"
    }
   ],
   "source": [
    "from sklearn.metrics import confusion_matrix\n",
    "import seaborn as sns\n",
    "\n",
    "# Random Forest\n",
    "y_pred_rf = rf.predict(X_test)\n",
    "y_true_rf = y_test\n",
    "cm = confusion_matrix(y_true_rf, y_pred_rf)\n",
    "f, ax = plt.subplots(figsize =(5,5))\n",
    "sns.heatmap(cm,annot = True,linewidths=0.5,linecolor=\"red\",fmt = \".0f\",ax=ax)\n",
    "plt.xlabel(\"y_pred_rf\")\n",
    "plt.ylabel(\"y_true_rf\")\n",
    "plt.show()"
   ]
  },
  {
   "cell_type": "code",
   "execution_count": 53,
   "id": "3c34a4ee",
   "metadata": {},
   "outputs": [
    {
     "data": {
      "image/png": "[encoded data removed]",
      "text/plain": [
       "<Figure size 360x360 with 2 Axes>"
      ]
     },
     "metadata": {},
     "output_type": "display_data"
    }
   ],
   "source": [
    "# DecisionTree\n",
    "y_pred_dt = dt.predict(X_test)\n",
    "y_true_dt = y_test\n",
    "cm = confusion_matrix(y_true_dt, y_pred_dt)\n",
    "f, ax = plt.subplots(figsize =(5,5))\n",
    "sns.heatmap(cm,annot = True,linewidths=0.5,linecolor=\"red\",fmt = \".0f\",ax=ax)\n",
    "plt.xlabel(\"y_pred_dt\")\n",
    "plt.ylabel(\"y_true_dt\")\n",
    "plt.show()"
   ]
  }
 ],
 "metadata": {
  "kernelspec": {
   "display_name": "Python 3 (ipykernel)",
   "language": "python",
   "name": "python3"
  },
  "language_info": {
   "codemirror_mode": {
    "name": "ipython",
    "version": 3
   },
   "file_extension": ".py",
   "mimetype": "text/x-python",
   "name": "python",
   "nbconvert_exporter": "python",
   "pygments_lexer": "ipython3",
   "version": "3.8.8"
  }
 },
 "nbformat": 4,
 "nbformat_minor": 5
}
